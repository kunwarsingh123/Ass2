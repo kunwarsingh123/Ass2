{
 "cells": [
  {
   "cell_type": "markdown",
   "id": "e03a50a9-19c9-4063-becf-846455818756",
   "metadata": {},
   "source": [
    "1 Answer-\n",
    "\n",
    "comment code in python are use to helpful for easily understable the code ..\n",
    "there are two types of comment in python -: (A) # it is single line comment  (B) \"\"\" \"\"\" it is multi line comment"
   ]
  },
  {
   "cell_type": "markdown",
   "id": "6552787d-c760-45f8-9d56-7f6a7cc31d42",
   "metadata": {},
   "source": [
    "2  Answer-\n",
    " variable in python are different data types and it is symbolic name or refernce of pointer object \n",
    " there are different data types\n",
    " str,int,  bool, list ,set,dict,map etc...\n"
   ]
  },
  {
   "cell_type": "markdown",
   "id": "46049892-d0f6-4fa5-8013-e232d68de32b",
   "metadata": {},
   "source": [
    "3 Answer-\n",
    "we can simply convert one data type to another datatype\n",
    "\n",
    "for example\n",
    "a \n",
    "a=int(input(\"enter value\"))\n",
    "          "
   ]
  },
  {
   "cell_type": "markdown",
   "id": "e8395fca-dbfe-4373-a48d-4b6890c6575c",
   "metadata": {},
   "source": [
    "4 Answer\n",
    "The file containing Python script has the extension ‘.py’ or can also have the extension ‘.pyw’ if it is being run on a Windows 10 machine. To run a Python script, we need a Python interpreter installed on the device.\n"
   ]
  },
  {
   "cell_type": "markdown",
   "id": "ac4be929-19bf-4a84-8867-f0465e4d9058",
   "metadata": {},
   "source": [
    "5 Answer\n",
    " my_list = [1, 2, 3, 4, 5]\n",
    "my_list[1:3]"
   ]
  },
  {
   "cell_type": "markdown",
   "id": "63c945b1-7cbb-4138-9c5b-81fb1cf42aa1",
   "metadata": {},
   "source": [
    "6 Answer\n",
    "complex  variable in mathematics are combination of real and imaginary number\n",
    "for example  5+7j"
   ]
  },
  {
   "cell_type": "markdown",
   "id": "40992760-09dd-402e-b87e-d2736c9d45e5",
   "metadata": {},
   "source": [
    "7 Answer\n",
    " name =\"ajay singh\"\n",
    " age = 25"
   ]
  },
  {
   "cell_type": "markdown",
   "id": "3c798b41-3bab-4447-a508-7f496577e47e",
   "metadata": {},
   "source": [
    "8  Answer\n",
    " f= 28.44\n",
    " data-type = float\n",
    " "
   ]
  },
  {
   "cell_type": "markdown",
   "id": "61bed362-2bf0-4f58-86dc-87ef33f35bab",
   "metadata": {},
   "source": [
    "9 Answer\n",
    "name = \"ajay singh\"\n",
    "type(name)"
   ]
  },
  {
   "cell_type": "markdown",
   "id": "88f9154c-e2de-4fcb-b131-9cc7f31dc6b8",
   "metadata": {},
   "source": [
    "10 Answer\n",
    "a=\"hello world\"\n",
    "print(a[6:11])\n"
   ]
  },
  {
   "cell_type": "code",
   "execution_count": null,
   "id": "2ae47807-7a02-4c7e-9bad-43955e701c25",
   "metadata": {},
   "outputs": [],
   "source": [
    "# 11 Answer\n",
    "is_student\n",
    "is_student=int(input(\"is_student enter value\"))\n",
    "print(is_student)\n",
    "if is_student==1 :\n",
    "    print(\"yes student\")\n",
    "elif is_student==0 :\n",
    "    print(\"NOT a student\")\n"
   ]
  }
 ],
 "metadata": {
  "kernelspec": {
   "display_name": "Python 3 (ipykernel)",
   "language": "python",
   "name": "python3"
  },
  "language_info": {
   "codemirror_mode": {
    "name": "ipython",
    "version": 3
   },
   "file_extension": ".py",
   "mimetype": "text/x-python",
   "name": "python",
   "nbconvert_exporter": "python",
   "pygments_lexer": "ipython3",
   "version": "3.10.8"
  }
 },
 "nbformat": 4,
 "nbformat_minor": 5
}
